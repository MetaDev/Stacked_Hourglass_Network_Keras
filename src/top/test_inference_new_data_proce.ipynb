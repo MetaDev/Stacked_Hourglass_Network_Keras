{
 "cells": [
  {
   "cell_type": "code",
   "execution_count": 21,
   "metadata": {},
   "outputs": [],
   "source": [
    "import sys\n",
    "sys.path.insert(0,'../')\n",
    "import os\n",
    "#run on cpu to not interfere with trianing\n",
    "os.environ[\"CUDA_DEVICE_ORDER\"] = \"PCI_BUS_ID\"   # see issue #152\n",
    "os.environ[\"CUDA_VISIBLE_DEVICES\"] = \"-1\"\n",
    "from net.hourglass import HourglassNet\n",
    "from eval.heatmap_process import post_process_heatmap\n",
    "import glob\n",
    "import cv2\n",
    "import matplotlib.pyplot as plt\n",
    "import scipy\n",
    "import imageio\n",
    "from top.demo import render_joints\n",
    "import numpy as np"
   ]
  },
  {
   "cell_type": "code",
   "execution_count": 22,
   "metadata": {},
   "outputs": [],
   "source": [
    "num_class=14\n",
    "num_stack=2\n",
    "model_dir=\"../../trained_models/mpii_new\"\n",
    "model_json=\"net_arch.json\"\n",
    "epoch=49\n",
    "model_weights=\"weights_epoch\"+str(epoch)+\".h5\"\n",
    "inres=(256, 256)\n",
    "outres=(64,64)\n",
    "xnet = HourglassNet(num_class, num_stack, inres, outres)\n",
    "model_json=os.path.join(model_dir, model_json)\n",
    "model_weights=os.path.join(model_dir, model_weights)\n",
    "\n",
    "xnet.load_model(model_json, model_weights)\n"
   ]
  },
  {
   "cell_type": "code",
   "execution_count": null,
   "metadata": {},
   "outputs": [
    {
     "name": "stdout",
     "output_type": "stream",
     "text": [
      "000033016.jpg\n"
     ]
    },
    {
     "name": "stderr",
     "output_type": "stream",
     "text": [
      "/media/sda4/miniconda3/envs/py35/lib/python3.5/site-packages/ipykernel_launcher.py:42: DeprecationWarning: `imread` is deprecated!\n",
      "`imread` is deprecated in SciPy 1.0.0, and will be removed in 1.2.0.\n",
      "Use ``imageio.imread`` instead.\n",
      "/media/sda4/miniconda3/envs/py35/lib/python3.5/site-packages/ipykernel_launcher.py:30: DeprecationWarning: `imresize` is deprecated!\n",
      "`imresize` is deprecated in SciPy 1.0.0, and will be removed in 1.2.0.\n",
      "Use ``skimage.transform.resize`` instead.\n"
     ]
    }
   ],
   "source": [
    "img_dir=\"../../data/test_images\"\n",
    "# load files from data generator\n",
    "\n",
    "for file in os.listdir(img_dir):\n",
    "    print(file)\n",
    "    img_file=os.path.join(img_dir,file)\n",
    "    out,scale = xnet.inference_file(img_file)\n",
    "\n",
    "    kps = post_process_heatmap(out[0,:,:,:])\n",
    "    #first element of batch\n",
    "    out=out[0]\n",
    "    print(out.shape)\n",
    "    for j in range(out.shape[-1]):\n",
    "        print(out[:,:,j].shape)\n",
    "        plt.imshow(out[:,:,j])\n",
    "        plt.show()\n",
    "    mkps = list() \n",
    "    for i, _kp in enumerate(kps):\n",
    "        _conf = _kp[2]\n",
    "        mkps.append((_kp[0]*scale[1]*4, _kp[1]*scale[0]*4, _conf))\n",
    "    print(mkps)\n",
    "    #normally conf th is around 0.2 but currently no joints are found\n",
    "    cvmat = render_joints(imageio.imread(img_file), mkps, conf_th=0.002)\n",
    "    plt.imshow(cvmat)\n",
    "    plt.show()\n"
   ]
  },
  {
   "cell_type": "code",
   "execution_count": null,
   "metadata": {},
   "outputs": [],
   "source": []
  }
 ],
 "metadata": {
  "kernelspec": {
   "display_name": "Python 3",
   "language": "python",
   "name": "python3"
  },
  "language_info": {
   "codemirror_mode": {
    "name": "ipython",
    "version": 3
   },
   "file_extension": ".py",
   "mimetype": "text/x-python",
   "name": "python",
   "nbconvert_exporter": "python",
   "pygments_lexer": "ipython3",
   "version": "3.5.6"
  }
 },
 "nbformat": 4,
 "nbformat_minor": 2
}
