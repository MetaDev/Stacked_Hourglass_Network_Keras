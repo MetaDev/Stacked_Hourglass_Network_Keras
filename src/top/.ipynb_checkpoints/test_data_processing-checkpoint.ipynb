{
 "cells": [
  {
   "cell_type": "code",
   "execution_count": 4,
   "metadata": {},
   "outputs": [],
   "source": [
    "import sys\n",
    "sys.path.insert(0,'../')\n",
    "import data_gen.data_gen_utils as dg\n",
    "from data_gen.mpII_datagen2 import MPII_dataset\n",
    "import matplotlib.pyplot as plt\n",
    "import os"
   ]
  },
  {
   "cell_type": "code",
   "execution_count": null,
   "metadata": {},
   "outputs": [],
   "source": [
    "data_path=\"../../data\"\n",
    "data_gen_class=MPII_dataset\n",
    "inres=(256, 256)\n",
    "outres=(64,64)\n",
    "num_hgstacks=1\n",
    "batch_size=10\n",
    "data_set=data_gen_class(os.path.join(data_path,data_gen_class.image_dir),\n",
    "                            os.path.join(data_path,data_gen_class.joint_file),\n",
    "                             inres, outres, num_hgstacks)\n",
    "test_fract = 0.2\n",
    "train_gen, test_gen = data_set.tt_generator(batch_size, test_portion=test_fract)\n",
    "train_gen = data_set.tt_generator(100)\n",
    "for i, batch in enumerate(train_gen):\n",
    "    train_in, hmaps=batch\n",
    "    for maps in hmaps[0]:\n",
    "        for map_ in maps:\n",
    "            plt.imshow(map_)\n",
    "            plt.show()\n",
    "    if i == 0:\n",
    "        break"
   ]
  },
  {
   "cell_type": "code",
   "execution_count": null,
   "metadata": {},
   "outputs": [],
   "source": []
  }
 ],
 "metadata": {
  "kernelspec": {
   "display_name": "Python 3",
   "language": "python",
   "name": "python3"
  },
  "language_info": {
   "codemirror_mode": {
    "name": "ipython",
    "version": 3
   },
   "file_extension": ".py",
   "mimetype": "text/x-python",
   "name": "python",
   "nbconvert_exporter": "python",
   "pygments_lexer": "ipython3",
   "version": "3.5.6"
  }
 },
 "nbformat": 4,
 "nbformat_minor": 2
}
