{
 "cells": [
  {
   "cell_type": "code",
   "execution_count": 21,
   "metadata": {},
   "outputs": [],
   "source": [
    "import sys\n",
    "sys.path.insert(0,'../')\n",
    "import os\n",
    "from net.hourglass import HourglassNet\n",
    "from eval.heatmap_process import post_process_heatmap\n",
    "import glob\n",
    "import cv2\n",
    "import matplotlib.pyplot as plt\n",
    "import scipy\n",
    "import imageio\n",
    "from top.demo import render_joints\n",
    "import numpy as np"
   ]
  },
  {
   "cell_type": "code",
   "execution_count": 22,
   "metadata": {},
   "outputs": [],
   "source": [
    "num_class=14\n",
    "num_stack=2\n",
    "model_dir=\"../../trained_models/MPII_original\"\n",
    "model_json=\"net_arch.json\"\n",
    "epoch=49\n",
    "model_weights=\"weights_epoch\"+str(epoch)+\".h5\"\n",
    "inres=(256, 256)\n",
    "outres=(64,64)\n",
    "xnet = HourglassNet(num_class, num_stack, inres, outres)\n",
    "model_json=os.path.join(model_dir, model_json)\n",
    "model_weights=os.path.join(model_dir, model_weights)\n",
    "\n",
    "xnet.load_model(model_json, model_weights)\n",
    "\n",
    "def normalize(imgdata, color_mean):\n",
    "    '''\n",
    "    :param imgdata: image in 0 ~ 255\n",
    "    :return:  image from 0.0 to 1.0\n",
    "    '''\n",
    "    imgdata = imgdata/255.0\n",
    "\n",
    "    for i in range(imgdata.shape[-1]):\n",
    "        imgdata[:, :, i] -= color_mean[i]\n",
    "\n",
    "    return imgdata\n",
    "\n",
    "def inference_rgb(net, rgbdata, orgshape, mean=None):\n",
    "\n",
    "    scale = (orgshape[0] * 1.0 / inres[0], orgshape[1] * 1.0 / inres[1])\n",
    "    imgdata = scipy.misc.imresize(rgbdata, inres)\n",
    "\n",
    "    mean = np.array([0.4404, 0.4440, 0.4327], dtype=np.float)\n",
    "\n",
    "    imgdata = normalize(imgdata, mean)\n",
    "\n",
    "    input = imgdata[np.newaxis, :, :, :]\n",
    "\n",
    "    out = net.model.predict(input)\n",
    "    return out[-1], scale\n",
    "\n",
    "def inference_file(imgfile, net):\n",
    "    imgdata = scipy.misc.imread(imgfile)\n",
    "    ret = inference_rgb(net,imgdata, imgdata.shape)\n",
    "    return ret"
   ]
  },
  {
   "cell_type": "code",
   "execution_count": null,
   "metadata": {},
   "outputs": [
    {
     "name": "stdout",
     "output_type": "stream",
     "text": [
      "000033016.jpg\n"
     ]
    },
    {
     "name": "stderr",
     "output_type": "stream",
     "text": [
      "/media/sda4/miniconda3/envs/py35/lib/python3.5/site-packages/ipykernel_launcher.py:42: DeprecationWarning: `imread` is deprecated!\n",
      "`imread` is deprecated in SciPy 1.0.0, and will be removed in 1.2.0.\n",
      "Use ``imageio.imread`` instead.\n",
      "/media/sda4/miniconda3/envs/py35/lib/python3.5/site-packages/ipykernel_launcher.py:30: DeprecationWarning: `imresize` is deprecated!\n",
      "`imresize` is deprecated in SciPy 1.0.0, and will be removed in 1.2.0.\n",
      "Use ``skimage.transform.resize`` instead.\n"
     ]
    }
   ],
   "source": [
    "img_dir=\"../../data/test_images\"\n",
    "\n",
    "for file in os.listdir(img_dir):\n",
    "    print(file)\n",
    "    img_file=os.path.join(img_dir,file)\n",
    "    out,scale = inference_file(img_file,xnet)\n",
    "\n",
    "    kps = post_process_heatmap(out[0,:,:,:])\n",
    "    #first element of batch\n",
    "    out=out[0]\n",
    "    print(out.shape)\n",
    "    for j in range(out.shape[-1]):\n",
    "        print(out[:,:,j].shape)\n",
    "        plt.imshow(out[:,:,j])\n",
    "        plt.show()\n",
    "    mkps = list() \n",
    "    for i, _kp in enumerate(kps):\n",
    "        _conf = _kp[2]\n",
    "        mkps.append((_kp[0]*scale[1]*4, _kp[1]*scale[0]*4, _conf))\n",
    "    print(mkps)\n",
    "    #normally conf th is around 0.2 but currently no joints are found\n",
    "    cvmat = render_joints(imageio.imread(img_file), mkps, conf_th=0.002)\n",
    "    plt.imshow(cvmat)\n",
    "    plt.show()\n"
   ]
  },
  {
   "cell_type": "code",
   "execution_count": null,
   "metadata": {},
   "outputs": [],
   "source": []
  }
 ],
 "metadata": {
  "kernelspec": {
   "display_name": "Python 3",
   "language": "python",
   "name": "python3"
  },
  "language_info": {
   "codemirror_mode": {
    "name": "ipython",
    "version": 3
   },
   "file_extension": ".py",
   "mimetype": "text/x-python",
   "name": "python",
   "nbconvert_exporter": "python",
   "pygments_lexer": "ipython3",
   "version": "3.5.6"
  }
 },
 "nbformat": 4,
 "nbformat_minor": 2
}
