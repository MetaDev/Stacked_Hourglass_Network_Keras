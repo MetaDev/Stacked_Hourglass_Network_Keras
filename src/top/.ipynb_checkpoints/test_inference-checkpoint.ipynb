{
 "cells": [
  {
   "cell_type": "code",
   "execution_count": 42,
   "metadata": {},
   "outputs": [],
   "source": [
    "import sys\n",
    "sys.path.insert(0,'../')\n",
    "import os\n",
    "from net.hourglass import HourglassNet\n",
    "from eval.heatmap_process import post_process_heatmap\n",
    "import glob\n",
    "import cv2\n",
    "import matplotlib.pyplot as plt\n",
    "import scipy\n",
    "import imageio\n",
    "from top.demo import render_joints"
   ]
  },
  {
   "cell_type": "code",
   "execution_count": null,
   "metadata": {},
   "outputs": [],
   "source": [
    "num_class=14\n",
    "num_stack=2\n",
    "model_dir=\"../../trained_models/mpii_new\"\n",
    "model_json=\"net_arch.json\"\n",
    "epoch=25\n",
    "model_weights=\"weights_epoch\"+str(epoch)+\".h5\"\n",
    "inres=(256, 256)\n",
    "outres=(64,64)\n",
    "xnet = HourglassNet(num_class, num_stack, inres, outres)\n",
    "model_json=os.path.join(model_dir, model_json)\n",
    "model_weights=os.path.join(model_dir, model_weights)\n",
    "\n",
    "xnet.load_model(model_json, model_weights)"
   ]
  },
  {
   "cell_type": "code",
   "execution_count": null,
   "metadata": {},
   "outputs": [],
   "source": [
    "img_dir=\"../../data/test_images\"\n",
    "\n",
    "for file in os.listdir(img_dir):\n",
    "    print(file)\n",
    "    img_file=os.path.join(img_dir,file)\n",
    "    imgdata = imageio.imread(img_file)\n",
    "    out,scale = xnet.inference_rgb(imgdata, imgdata.shape)\n",
    "\n",
    "    kps = post_process_heatmap(out[0,:,:,:])\n",
    "    mkps = list() \n",
    "    for i, _kp in enumerate(kps):\n",
    "        _conf = _kp[2]\n",
    "        mkps.append((_kp[0]*scale[1]*4, _kp[1]*scale[0]*4, _conf))\n",
    "\n",
    "    cvmat = render_joints(scipy.misc.imread(imgfile), mkps, confth)\n",
    "    plt.imshow(cvmat)\n",
    "    \n",
    "plot.show()\n"
   ]
  },
  {
   "cell_type": "code",
   "execution_count": null,
   "metadata": {},
   "outputs": [],
   "source": []
  }
 ],
 "metadata": {
  "kernelspec": {
   "display_name": "Python 3",
   "language": "python",
   "name": "python3"
  }
 },
 "nbformat": 4,
 "nbformat_minor": 2
}
