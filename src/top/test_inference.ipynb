{
 "cells": [
  {
   "cell_type": "code",
   "execution_count": 8,
   "metadata": {},
   "outputs": [
    {
     "name": "stdout",
     "output_type": "stream",
     "text": [
      "/media/sda4/jstaley/pose_estimation/Stacked_Hourglass_Network_Keras/src/top\n"
     ]
    }
   ],
   "source": [
    "import sys\n",
    "sys.path.insert(0,'../')\n",
    "\n",
    "from net.hourglass import HourglassNet\n"
   ]
  },
  {
   "cell_type": "code",
   "execution_count": null,
   "metadata": {},
   "outputs": [],
   "source": [
    "num_class=14\n",
    "num_stack=2\n",
    "model_dir=\"../../trained_models/MPII_original\"\n",
    "model_json=\"\"\n",
    "xnet = HourglassNet(num_class, num_stack, (256, 256), (64, 64))\n",
    "xnet.load_model(model_json, model_weights)"
   ]
  }
 ],
 "metadata": {
  "kernelspec": {
   "display_name": "Python 3",
   "language": "python",
   "name": "python3"
  }
 },
 "nbformat": 4,
 "nbformat_minor": 2
}
